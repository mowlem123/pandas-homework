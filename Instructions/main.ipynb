{
 "cells": [
  {
   "cell_type": "code",
   "execution_count": null,
   "id": "6bb6798b-0c43-475a-8526-067a5660b265",
   "metadata": {},
   "outputs": [],
   "source": []
  },
  {
   "cell_type": "markdown",
   "id": "df903851-13f8-4ca0-a0b1-1f745152a36f",
   "metadata": {},
   "source": [
    " #  A Whale off the Port(folio)\n",
    " ---\n",
    "\n",
    " In this assignment, you'll get to use what you've learned this week to evaluate the performance among various algorithmic, hedge, and mutual fund portfolios and compare them against the S&P 500 Index."
   ]
  },
  {
   "cell_type": "code",
   "execution_count": null,
   "id": "c94ebfb5-58b5-4c7c-a2c5-77cdc011f91c",
   "metadata": {},
   "outputs": [],
   "source": [
    "# Initial imports\n",
    "import pandas as pd\n",
    "import numpy as np\n",
    "import datetime as dt\n",
    "import seaborn as sns\n",
    "from pathlib import Path\n",
    "import quandl\n",
    "\n",
    "%matplotlib inline"
   ]
  },
  {
   "cell_type": "markdown",
   "id": "f87501cd-8b32-4d2e-bfd9-d0e560f2c027",
   "metadata": {},
   "source": [
    "# Data Cleaning\n",
    "\n",
    "In this section, you will need to read the CSV files into DataFrames and perform any necessary data cleaning steps. After cleaning, combine all DataFrames into a single DataFrame.\n",
    "\n",
    "Files:\n",
    "\n",
    "* `whale_returns.csv`: Contains returns of some famous \"whale\" investors' portfolios.\n",
    "\n",
    "* `algo_returns.csv`: Contains returns from the in-house trading algorithms from Harold's company.\n",
    "\n",
    "* `sp500_history.csv`: Contains historical closing prices of the S&P 500 Index."
   ]
  },
  {
   "cell_type": "markdown",
   "id": "e18dd24a-5fab-4d04-85de-e4055efd33fe",
   "metadata": {},
   "source": [
    "## Whale Returns\n",
    "\n",
    "Read the Whale Portfolio daily returns and clean the data"
   ]
  },
  {
   "cell_type": "code",
   "execution_count": null,
   "id": "63db8bd3-1910-4057-9073-5049de73de5b",
   "metadata": {},
   "outputs": [],
   "source": [
    "# Reading whale returns\n",
    "whale_returns_csv = Path(\"Starter_Code/Resources/whale_returns.csv\")\n",
    "whale_df = pd.read_csv(whale_returns_csv, index_col=\"Date\", infer_datetime_format=True, parse_dates=True)\n",
    "whale_df.head()"
   ]
  },
  {
   "cell_type": "code",
   "execution_count": null,
   "id": "db8c640c-a2fe-45fa-a291-08a3170e098d",
   "metadata": {},
   "outputs": [],
   "source": [
    "# Count nulls\n",
    "whale_df.isnull().sum()"
   ]
  },
  {
   "cell_type": "code",
   "execution_count": null,
   "id": "dcc76dd0-dcd0-4c6f-a9db-23fb31aff653",
   "metadata": {},
   "outputs": [],
   "source": [
    "# Drop nulls\n",
    "whale_df = whale_df.dropna()"
   ]
  },
  {
   "cell_type": "code",
   "execution_count": null,
   "id": "5d1d047a-7ac3-42aa-9fd6-8e01b306ccf3",
   "metadata": {},
   "outputs": [],
   "source": [
    "whale_df.isnull().sum()"
   ]
  },
  {
   "cell_type": "markdown",
   "id": "758d1857-3e48-47ba-8c47-8288ad1fe319",
   "metadata": {},
   "source": [
    "## Algorithmic Daily Returns\n",
    "\n",
    "Read the algorithmic daily returns and clean the data"
   ]
  },
  {
   "cell_type": "code",
   "execution_count": null,
   "id": "f7e7b68b-eea7-4ff1-9a08-069b23d97143",
   "metadata": {},
   "outputs": [],
   "source": [
    "# Reading algorithmic returns\n",
    "algo_returns_csv = Path(\"Starter_Code/Resources/algo_returns.csv\")\n",
    "algo_df = pd.read_csv(algo_returns_csv, index_col=\"Date\", infer_datetime_format=True, parse_dates=True)\n",
    "algo_df.head()"
   ]
  },
  {
   "cell_type": "code",
   "execution_count": null,
   "id": "8986b67d-9a65-45a4-b71f-c831b4719f7c",
   "metadata": {},
   "outputs": [],
   "source": [
    "# Count nulls\n",
    "algo_df.isnull().sum()\n"
   ]
  },
  {
   "cell_type": "code",
   "execution_count": null,
   "id": "d73ad7cd-8cdb-4ffe-8e83-2fd2ef529d4d",
   "metadata": {},
   "outputs": [],
   "source": [
    "# Drop nulls\n",
    "algo_df = algo_df.dropna()"
   ]
  },
  {
   "cell_type": "code",
   "execution_count": null,
   "id": "e83a1ad1-9310-4040-8bc3-0785742f29b3",
   "metadata": {},
   "outputs": [],
   "source": [
    "algo_df.isnull().sum()"
   ]
  },
  {
   "cell_type": "markdown",
   "id": "032adc59-6934-4471-bd25-8f06a8c6bc98",
   "metadata": {},
   "source": [
    "## S&P 500 Returns\n",
    "\n",
    "Read the S&P 500 historic closing prices and create a new daily returns DataFrame from the data. "
   ]
  },
  {
   "cell_type": "code",
   "execution_count": null,
   "id": "a6c1549c-1ad2-464f-805c-d0576773c21a",
   "metadata": {},
   "outputs": [],
   "source": [
    "# Reading S&P 500 Closing Prices\n",
    "sp500_history_csv = Path(\"Starter_Code/Resources/sp500_history.csv\")\n",
    "sp500_df = pd.read_csv(sp500_history_csv, index_col=\"Date\", infer_datetime_format=True, parse_dates=True)\n",
    "sp500_df.head()"
   ]
  },
  {
   "cell_type": "code",
   "execution_count": null,
   "id": "9ba3a73a-b3c7-4030-93b5-514b7e4ef427",
   "metadata": {},
   "outputs": [],
   "source": [
    "# Check Data Types\n",
    "sp500_df.dtypes"
   ]
  },
  {
   "cell_type": "code",
   "execution_count": null,
   "id": "dc1eaf8e-48b3-4d73-851c-dcc36bede334",
   "metadata": {},
   "outputs": [],
   "source": [
    "# Fix Data Types\n",
    "sp500_df['Close'] = sp500_df['Close'].str.replace('$', \"\")\n",
    "\n",
    "sp500_df['Close'] = sp500_df['Close'].astype('float')\n",
    "sp500_df['Close']"
   ]
  },
  {
   "cell_type": "code",
   "execution_count": null,
   "id": "9d5eb9aa-52b7-4028-af0c-97cd5aac9380",
   "metadata": {},
   "outputs": [],
   "source": [
    "# Calculate Daily Returns\n",
    "sp500_daily_returns = sp500_df.pct_change()\n",
    "sp500_daily_returns.head()"
   ]
  },
  {
   "cell_type": "code",
   "execution_count": null,
   "id": "9d5dcfd4-395e-457d-b7f4-16631634fce8",
   "metadata": {},
   "outputs": [],
   "source": [
    "# Drop nulls\n",
    "sp500_daily_returns = sp500_daily_returns.dropna()\n",
    "sp500_daily_returns.head()"
   ]
  },
  {
   "cell_type": "code",
   "execution_count": null,
   "id": "6167d5d4-d669-4c6b-a000-cdaa492811d5",
   "metadata": {},
   "outputs": [],
   "source": [
    "sp500_daily_returns.isnull().sum()"
   ]
  },
  {
   "cell_type": "code",
   "execution_count": null,
   "id": "b5a00608-1fad-4c94-a359-8f5f04a0af58",
   "metadata": {},
   "outputs": [],
   "source": [
    "# Rename `Close` Column to be specific to this portfolio.\n",
    "sp500_daily_returns = sp500_daily_returns.rename(columns={\n",
    "    'Close': 'S&P 500 Daily Returns'\n",
    "})\n",
    "\n",
    "sp500_daily_returns.head()"
   ]
  },
  {
   "cell_type": "markdown",
   "id": "ac2d7f3c-ca53-4f55-bc70-6978e316fb84",
   "metadata": {},
   "source": [
    "## Combine Whale, Algorithmic, and S&P 500 Returns"
   ]
  },
  {
   "cell_type": "code",
   "execution_count": null,
   "id": "b9f8a9f4-31d8-477f-b257-1e725ead72c0",
   "metadata": {},
   "outputs": [],
   "source": [
    "# Join Whale Returns, Algorithmic Returns, and the S&P 500 Returns into a single DataFrame with columns for each portfolio's returns.\n",
    "joined_df = pd.concat([whale_df, algo_df, sp500_daily_returns], axis='columns', join='inner')\n",
    "joined_df.head()"
   ]
  },
  {
   "cell_type": "markdown",
   "id": "88c0c3ed-b8e2-4990-90f4-12f469078422",
   "metadata": {},
   "source": [
    "---"
   ]
  },
  {
   "cell_type": "markdown",
   "id": "a5142ca1-5316-4576-8020-fe09c9846f09",
   "metadata": {},
   "source": [
    "# Conduct Quantitative Analysis\n",
    "\n",
    "In this section, you will calculate and visualize performance and risk metrics for the portfolios."
   ]
  },
  {
   "cell_type": "markdown",
   "id": "ca9a8388-8204-41c6-92dd-8d3d81ced4a0",
   "metadata": {},
   "source": [
    "## Performance Anlysis\n",
    "\n",
    "#### Calculate and Plot the daily returns."
   ]
  },
  {
   "cell_type": "code",
   "execution_count": null,
   "id": "e24ca3ef-3027-4c24-98a5-17e5d11e7da2",
   "metadata": {},
   "outputs": [],
   "source": [
    "# Plot daily returns of all portfolios\n",
    "joined_df.plot()"
   ]
  },
  {
   "cell_type": "markdown",
   "id": "0057ec01-35a7-4ffa-9a09-70de4594ff7e",
   "metadata": {},
   "source": [
    "#### Calculate and Plot cumulative returns."
   ]
  },
  {
   "cell_type": "code",
   "execution_count": null,
   "id": "e96fd23d-f912-4d9e-b629-716e45a1714e",
   "metadata": {},
   "outputs": [],
   "source": [
    "# Calculate cumulative returns of all portfolios\n",
    "cumulative_returns = (1 + joined_df).cumprod()\n",
    "cumulative_returns.head()"
   ]
  },
  {
   "cell_type": "code",
   "execution_count": null,
   "id": "bbadd83c-8275-49b9-aa29-36b8b252e961",
   "metadata": {},
   "outputs": [],
   "source": [
    "# Plot cumulative returns\n",
    "cumulative_returns.plot()"
   ]
  },
  {
   "cell_type": "markdown",
   "id": "140b2929-5e23-44d4-b36c-c5ef08ffbdbe",
   "metadata": {},
   "source": [
    "---"
   ]
  },
  {
   "cell_type": "markdown",
   "id": "65f332de-7098-4436-bd50-ccd39422cd43",
   "metadata": {},
   "source": [
    "## Risk Analysis\n",
    "\n",
    "Determine the _risk_ of each portfolio:\n",
    "\n",
    "1. Create a box plot for each portfolio. \n",
    "2. Calculate the standard deviation for all portfolios\n",
    "4. Determine which portfolios are riskier than the S&P 500\n",
    "5. Calculate the Annualized Standard Deviation"
   ]
  },
  {
   "cell_type": "markdown",
   "id": "d99e59bb-c01c-4255-a9c5-2c0b83b5b746",
   "metadata": {},
   "source": [
    "### Create a box plot for each portfolio\n"
   ]
  },
  {
   "cell_type": "code",
   "execution_count": null,
   "id": "882e5a78-47d5-4d4d-8f08-5bdbb686ad38",
   "metadata": {},
   "outputs": [],
   "source": [
    "# Box plot to visually show risk\n",
    "whale_df.boxplot()"
   ]
  },
  {
   "cell_type": "code",
   "execution_count": null,
   "id": "54e11bff-a18f-4791-995d-0430d70a0ea0",
   "metadata": {},
   "outputs": [],
   "source": [
    "# Box plot to visually show risk\n",
    "algo_df.boxplot()"
   ]
  },
  {
   "cell_type": "code",
   "execution_count": null,
   "id": "731e4ed4-c4d8-476f-86d1-d7f11afb0670",
   "metadata": {},
   "outputs": [],
   "source": [
    "# Box plot to visually show risk\n",
    "sp500_df.boxplot()"
   ]
  },
  {
   "cell_type": "code",
   "execution_count": null,
   "id": "9a851c92-98f0-472a-a111-5bc16a2e29e9",
   "metadata": {},
   "outputs": [],
   "source": [
    "# Box plot to visually show risk\n",
    "sp500_daily_returns.boxplot()"
   ]
  },
  {
   "cell_type": "markdown",
   "id": "ecde26f0-070e-4b07-97af-fdf26d1f4d4b",
   "metadata": {},
   "source": [
    "### Calculate Standard Deviations"
   ]
  },
  {
   "cell_type": "code",
   "execution_count": null,
   "id": "a327e7b9-4f88-4115-93f8-e4cfd1048667",
   "metadata": {},
   "outputs": [],
   "source": [
    "# Calculate the daily standard deviations of all portfolios\n",
    "joined_std = joined_df.std()\n",
    "joined_std"
   ]
  },
  {
   "cell_type": "code",
   "execution_count": null,
   "id": "55c10194-0503-442f-870c-2cbdb7ba29df",
   "metadata": {},
   "outputs": [],
   "source": [
    "# Calculate the daily standard deviations of all portfolios\n",
    "whale_df.std()"
   ]
  },
  {
   "cell_type": "code",
   "execution_count": null,
   "id": "97292e18-ba52-47b3-a713-91175a0257e8",
   "metadata": {},
   "outputs": [],
   "source": [
    "# Calculate the daily standard deviations of all portfolios \n",
    "algo_df.std()"
   ]
  },
  {
   "cell_type": "code",
   "execution_count": null,
   "id": "333e5ca1-234c-4596-b0d8-6475b2a2648e",
   "metadata": {},
   "outputs": [],
   "source": [
    "# Calculate the daily standard deviations of all portfolios \n",
    "sp500_df.std()"
   ]
  },
  {
   "cell_type": "markdown",
   "id": "1ab1dddf-a321-4b26-84e2-706015792a67",
   "metadata": {},
   "source": [
    "### Determine which portfolios are riskier than the S&P 500"
   ]
  },
  {
   "cell_type": "code",
   "execution_count": null,
   "id": "6d52c040-585b-4304-8bee-730eb118e72d",
   "metadata": {},
   "outputs": [],
   "source": [
    "# Calculate  the daily standard deviation of S&P 500\n",
    "sp500_daily_std = sp500_daily_returns.std()\n",
    "\n",
    "# Determine which portfolios are riskier than the S&P 500\n",
    "compare_std = joined_std.sort_values(ascending=False)\n",
    "compare_std"
   ]
  },
  {
   "cell_type": "markdown",
   "id": "13e1e795-28ce-4301-adfa-2b9a9ca051de",
   "metadata": {},
   "source": [
    "### Calculate the Annualized Standard Deviation"
   ]
  },
  {
   "cell_type": "code",
   "execution_count": null,
   "id": "80b605b5-3ff8-4505-97bf-bc35aa80c835",
   "metadata": {},
   "outputs": [],
   "source": [
    "# Calculate the annualized standard deviation (252 trading days)\n",
    "annualized_std = compare_std * np.sqrt(252)\n",
    "annualized_std"
   ]
  },
  {
   "cell_type": "markdown",
   "id": "2dd49e4c-5ffd-493b-a009-3e4ac6656f3b",
   "metadata": {},
   "source": [
    "---"
   ]
  },
  {
   "cell_type": "markdown",
   "id": "27992c67-f28a-41cf-a76a-0703c04d56b2",
   "metadata": {},
   "source": [
    "## Rolling Statistics\n",
    "\n",
    "Risk changes over time. Analyze the rolling statistics for Risk and Beta. \n",
    "\n",
    "1. Calculate and plot the rolling standard deviation for all portfolios using a 21-day window\n",
    "2. Calculate the correlation between each stock to determine which portfolios may mimick the S&P 500\n",
    "3. Choose one portfolio, then calculate and plot the 60-day rolling beta between it and the S&P 500"
   ]
  },
  {
   "cell_type": "markdown",
   "id": "62f04030-f955-4ef7-91aa-d0957afb1cd4",
   "metadata": {},
   "source": [
    "### Calculate and plot rolling `std` for all portfolios with 21-day window"
   ]
  },
  {
   "cell_type": "code",
   "execution_count": null,
   "id": "8b2378e7-d273-4579-bc2a-61079ae88598",
   "metadata": {},
   "outputs": [],
   "source": [
    "# Calculate the rolling standard deviation for all portfolios using a 21-day window\n",
    "joined_df.rolling(window=21).std()\n",
    "# Plot the rolling standard deviation\n",
    "joined_df.rolling(window=21).std().plot()"
   ]
  },
  {
   "cell_type": "markdown",
   "id": "4da9ec72-b940-45f2-b4f3-028d7545bc01",
   "metadata": {},
   "source": [
    "### Calculate and plot the correlation"
   ]
  },
  {
   "cell_type": "code",
   "execution_count": null,
   "id": "d33ab7ec-ab25-4ca5-80ae-5565755ec1ea",
   "metadata": {},
   "outputs": [],
   "source": [
    "# Calculate the correlation\n",
    "price_correlation = joined_df.corr()\n",
    "price_correlation"
   ]
  },
  {
   "cell_type": "code",
   "execution_count": null,
   "id": "ddb4c3d9-a8c6-440c-969d-5b12f24f38c7",
   "metadata": {},
   "outputs": [],
   "source": [
    "# Display de correlation matrix\n",
    "sns.heatmap(price_correlation, vmin=-1, vmax=1)"
   ]
  },
  {
   "cell_type": "markdown",
   "id": "45519253-8b9e-40b3-bc1a-36091ad95da8",
   "metadata": {},
   "source": [
    "### Calculate and Plot Beta for a chosen portfolio and the S&P 500"
   ]
  },
  {
   "cell_type": "code",
   "execution_count": null,
   "id": "57d62e07-e137-4e28-9d6d-f4a3f81afea0",
   "metadata": {},
   "outputs": [],
   "source": [
    "# Calculate covariance of a single portfolio\n",
    "covariance_tiger = joined_df['TIGER GLOBAL MANAGEMENT LLC'].rolling(window=252).cov(joined_df['S&P 500 Daily Returns'])"
   ]
  },
  {
   "cell_type": "code",
   "execution_count": null,
   "id": "b9b37d83-5226-4509-965c-faeb1080b3f6",
   "metadata": {},
   "outputs": [],
   "source": [
    "# Calculate variance of S&P 500\n",
    "variance_sp500_df = joined_df[\"S&P 500 Daily Returns\"].rolling(window=252).var()\n"
   ]
  },
  {
   "cell_type": "code",
   "execution_count": null,
   "id": "97aff0f1-ba45-41b5-be22-a060ec64d67b",
   "metadata": {},
   "outputs": [],
   "source": [
    "# Computing beta\n",
    "tiger_beta = covariance_tiger / variance_sp500_df\n",
    "# Beta Pandas 4, session 1\n"
   ]
  },
  {
   "cell_type": "code",
   "execution_count": null,
   "id": "815c5b88-20dc-429d-8714-91ab338d9a33",
   "metadata": {},
   "outputs": [],
   "source": [
    "# Plot beta trend\n",
    "ax = tiger_beta.plot(figsize=(20,10))"
   ]
  },
  {
   "cell_type": "markdown",
   "id": "2c728ff5-75a9-4f6c-9689-68ce4eee7084",
   "metadata": {},
   "source": [
    "## Rolling Statistics Challenge: Exponentially Weighted Average \n",
    "\n",
    "An alternative way to calculate a rolling window is to take the exponentially weighted moving average. This is like a moving window average, but it assigns greater importance to more recent observations. Try calculating the [`ewm`](https://pandas.pydata.org/pandas-docs/stable/reference/api/pandas.DataFrame.ewm.html) with a 21-day half-life."
   ]
  },
  {
   "cell_type": "code",
   "execution_count": null,
   "id": "d13ff4db-067f-43ce-aaa2-bf803145e779",
   "metadata": {},
   "outputs": [],
   "source": [
    "# Use `ewm` to calculate the rolling window\n",
    "joined_rolling = joined_df.ewm(halflife=21).mean()\n",
    "joined_rolling"
   ]
  },
  {
   "cell_type": "markdown",
   "id": "c2a75d44-4a14-4f45-a38c-1403b44b246f",
   "metadata": {},
   "source": [
    "---"
   ]
  },
  {
   "cell_type": "markdown",
   "id": "267c2cba-8188-4e3f-9223-5f02be09154c",
   "metadata": {},
   "source": [
    "# Sharpe Ratios\n",
    "In reality, investment managers and thier institutional investors look at the ratio of return-to-risk, and not just returns alone. After all, if you could invest in one of two portfolios, and each offered the same 10% return, yet one offered lower risk, you'd take that one, right?\n",
    "\n",
    "### Using the daily returns, calculate and visualize the Sharpe ratios using a bar plot"
   ]
  },
  {
   "cell_type": "code",
   "execution_count": null,
   "id": "9041890d-6b6e-4dad-b758-44038772c4c8",
   "metadata": {},
   "outputs": [],
   "source": [
    "# Annualized Sharpe Ratios\n",
    "# risk free rate? \n",
    "# Pandas -3, Session 3, 16- Sharpe Ratios\n",
    "sharpe_ratios = (joined_df.mean() *252) / (joined_df.std() * np.sqrt(252))"
   ]
  },
  {
   "cell_type": "code",
   "execution_count": null,
   "id": "786302bf-4750-47c0-9022-996f84325cb4",
   "metadata": {},
   "outputs": [],
   "source": [
    "# Visualize the sharpe ratios as a bar plot\n",
    "sharpe_ratios.plot.bar()"
   ]
  },
  {
   "cell_type": "markdown",
   "id": "9715a7f3-afcd-476b-99ce-fb5378e7fe4f",
   "metadata": {},
   "source": [
    "### Determine whether the algorithmic strategies outperform both the market (S&P 500) and the whales portfolios.\n",
    "\n",
    "Write your answer here!"
   ]
  },
  {
   "cell_type": "markdown",
   "id": "bf587648-effd-4740-b5f5-cf0262f0009e",
   "metadata": {},
   "source": [
    "---"
   ]
  },
  {
   "cell_type": "markdown",
   "id": "27382c4d-08b5-478f-8ff1-debfb5cc7030",
   "metadata": {},
   "source": [
    "# Create Custom Portfolio\n",
    "\n",
    "In this section, you will build your own portfolio of stocks, calculate the returns, and compare the results to the Whale Portfolios and the S&P 500. \n",
    "\n",
    "1. Choose 3-5 custom stocks with at last 1 year's worth of historic prices and create a DataFrame of the closing prices and dates for each stock.\n",
    "2. Calculate the weighted returns for the portfolio assuming an equal number of shares for each stock\n",
    "3. Join your portfolio returns to the DataFrame that contains all of the portfolio returns\n",
    "4. Re-run the performance and risk analysis with your portfolio to see how it compares to the others\n",
    "5. Include correlation analysis to determine which stocks (if any) are correlated"
   ]
  },
  {
   "cell_type": "markdown",
   "id": "b897f456-b0d1-43ea-9669-98c531618153",
   "metadata": {},
   "source": [
    "## Choose 3-5 custom stocks with at last 1 year's worth of historic prices and create a DataFrame of the closing prices and dates for each stock."
   ]
  },
  {
   "cell_type": "code",
   "execution_count": null,
   "id": "7b91abf6-2b10-4bc4-a223-ea085a3b1011",
   "metadata": {},
   "outputs": [],
   "source": [
    "# Reading data from 1st stock\n",
    "aapl_returns = (\"Resources/AAPL_df.csv\")\n",
    "aapl_df = pd.read_csv(aapl_returns, index_col=\"Date\", infer_datetime_format=True, parse_dates=True)\n",
    "aapl_df.head()"
   ]
  },
  {
   "cell_type": "code",
   "execution_count": null,
   "id": "e72ed68d-0c57-4e9e-b4fd-0a38587b3165",
   "metadata": {},
   "outputs": [],
   "source": [
    "# Reading data from 2nd stock\n",
    "ko_returns = (\"Resources/Coca_Cola_df.csv\")\n",
    "ko_df = pd.read_csv(ko_returns, index_col=\"Date\", infer_datetime_format=True, parse_dates=True)\n",
    "ko_df.head()"
   ]
  },
  {
   "cell_type": "code",
   "execution_count": null,
   "id": "a4dbca63-4a18-47d5-bb61-d14fd0e3338c",
   "metadata": {},
   "outputs": [],
   "source": [
    "# Reading data from 3rd stock\n",
    "lvs_returns = (\"Resources/Las_Vegas_Sands_df.csv\")\n",
    "lvs_df = pd.read_csv(lvs_returns, index_col=\"Date\", infer_datetime_format=True, parse_dates=True)\n",
    "lvs_df.head()"
   ]
  },
  {
   "cell_type": "code",
   "execution_count": null,
   "id": "b0aedde5-ed79-418c-9822-fec1d768d9e6",
   "metadata": {},
   "outputs": [],
   "source": [
    "# Combine all stocks in a single DataFrame\n",
    "custom_df = pd.concat([aapl_df, ko_df, lvs_df], axis='columns', join='inner')\n",
    "custom_df.head()"
   ]
  },
  {
   "cell_type": "code",
   "execution_count": null,
   "id": "ee2177a5-d5d3-4a52-a4cb-d085e3d87d07",
   "metadata": {},
   "outputs": [],
   "source": [
    "# Reorganize portfolio data by having a column per symbol\n",
    "columns = [\"AAPL\", \"KO\", \"LVS\"]\n",
    "custom_df.columns = columns\n",
    "custom_df.head()"
   ]
  },
  {
   "cell_type": "code",
   "execution_count": null,
   "id": "97d0b828-64c1-453b-b9f9-9ff7172c7abb",
   "metadata": {},
   "outputs": [],
   "source": [
    "# Calculate daily returns\n",
    "custom_daily_returns = custom_df.pct_change()\n",
    "# Drop NAs\n",
    "custom_daily_returns = custom_daily_returns.dropna()\n",
    "# Display sample data\n",
    "custom_daily_returns.head()"
   ]
  },
  {
   "cell_type": "markdown",
   "id": "ecf57152-6923-4c95-8eba-7f8223ce55a2",
   "metadata": {},
   "source": [
    "## Calculate the weighted returns for the portfolio assuming an equal number of shares for each stock"
   ]
  },
  {
   "cell_type": "code",
   "execution_count": null,
   "id": "8486606f-aee6-4aec-8687-e05bc484c89b",
   "metadata": {},
   "outputs": [],
   "source": [
    "# Set weights\n",
    "weights = [1/3, 1/3, 1/3]\n",
    "\n",
    "# Calculate portfolio return\n",
    "portfolio_return = custom_daily_returns.dot(weights)\n",
    "\n",
    "# Display sample data\n",
    "portfolio_return.head()"
   ]
  },
  {
   "cell_type": "markdown",
   "id": "b293a227-1c3d-48ce-b09c-3e11b0a5e6d6",
   "metadata": {},
   "source": [
    "## Join your portfolio returns to the DataFrame that contains all of the portfolio returns"
   ]
  },
  {
   "cell_type": "code",
   "execution_count": null,
   "id": "d64c2521-0bda-4f0f-b757-b8264b93a8b3",
   "metadata": {},
   "outputs": [],
   "source": [
    "# Join your returns DataFrame to the original returns DataFrame\n",
    "joined_returns_df = pd.concat([portfolio_return, joined_df], axis=\"columns\", join=\"inner\")\n",
    "joined_returns_df.plot()"
   ]
  },
  {
   "cell_type": "code",
   "execution_count": null,
   "id": "fffa1210-062e-4cad-b355-2ec43e85fa21",
   "metadata": {},
   "outputs": [],
   "source": [
    "# Only compare dates where return data exists for all the stocks (drop NaNs)\n",
    "joined_returns_df = joined_returns_df.dropna()\n",
    "joined_returns_df.head()"
   ]
  },
  {
   "cell_type": "markdown",
   "id": "b91fde5f-467d-44c0-a3d9-408496772eca",
   "metadata": {},
   "source": [
    "## Re-run the risk analysis with your portfolio to see how it compares to the others"
   ]
  },
  {
   "cell_type": "markdown",
   "id": "6a44edf7-1e7d-4cb6-9c91-9404bc6853b0",
   "metadata": {},
   "source": [
    "### Calculate the Annualized Standard Deviation"
   ]
  },
  {
   "cell_type": "code",
   "execution_count": null,
   "id": "88999698-5f80-4a10-9851-37f7661ccff0",
   "metadata": {},
   "outputs": [],
   "source": [
    "# Calculate the annualized `std`\n",
    "portfolio_return_std = portfolio_return.std()\n",
    "pfr_annualized_std = portfolio_return_std * np.sqrt(252)\n",
    "pfr_annualized_std.head()\n"
   ]
  },
  {
   "cell_type": "markdown",
   "id": "f04d16ec-4356-48ab-a05f-c2f09c2efb7d",
   "metadata": {},
   "source": [
    "### Calculate and plot rolling `std` with 21-day window"
   ]
  },
  {
   "cell_type": "code",
   "execution_count": null,
   "id": "a9ba0884-17b0-45a7-b791-6d969e871a2b",
   "metadata": {},
   "outputs": [],
   "source": [
    "# Calculate rolling standard deviation\n",
    "pfr_annualized_std.rolling.plot\n",
    "# Plot rolling standard deviation\n"
   ]
  },
  {
   "cell_type": "markdown",
   "id": "409353c8-4248-4aeb-b954-4aebb6d2ea07",
   "metadata": {},
   "source": [
    "### Calculate and plot the correlation"
   ]
  },
  {
   "cell_type": "code",
   "execution_count": null,
   "id": "55de7104-1cd9-4358-b68a-bd3b896f2d09",
   "metadata": {},
   "outputs": [],
   "source": [
    "# Calculate and plot the correlation\n",
    "correlation = portfolio_return.corr()\n",
    "correlation"
   ]
  },
  {
   "cell_type": "markdown",
   "id": "f6400afb-4317-47f5-b327-f9ec795457fe",
   "metadata": {},
   "source": [
    "### Calculate and Plot Rolling 60-day Beta for Your Portfolio compared to the S&P 500"
   ]
  },
  {
   "cell_type": "code",
   "execution_count": null,
   "id": "ab2d0c62-f860-4d96-a383-965f030257ce",
   "metadata": {},
   "outputs": [],
   "source": [
    "# Calculate and plot Beta\n",
    "covariance = portfolio_return['AAPL', 'KO', 'LVS'].rolling(window=252).cov(joined_df['S&P 500 Daily Returns'])\n",
    "variance = joined_df[\"S&P 500 Daily Returns\"].rolling(window=252).var()\n",
    "portfolio_beta = covariance / variance\n",
    "\n",
    "ax = portfolio_beta.plot(figsize=(20,10))"
   ]
  },
  {
   "cell_type": "markdown",
   "id": "ad33677d-720a-4122-9c8b-421fadbf9285",
   "metadata": {},
   "source": [
    "### Using the daily returns, calculate and visualize the Sharpe ratios using a bar plot"
   ]
  },
  {
   "cell_type": "code",
   "execution_count": null,
   "id": "14c01f8e-9b10-462f-92d3-e3debf5360dd",
   "metadata": {},
   "outputs": [],
   "source": [
    "# Calculate Annualized Sharpe Ratios\n",
    "portfolio_sharpe_ratios = (portfolio_return.mean() *252) / (portfolio_return.std() * np.sqrt(252))\n"
   ]
  },
  {
   "cell_type": "code",
   "execution_count": null,
   "id": "ceb52791-a010-4114-8218-1ae8996eeda2",
   "metadata": {},
   "outputs": [],
   "source": [
    "# Visualize the sharpe ratios as a bar plot\n",
    "portfolio_sharpe_ratios.plot.bar()"
   ]
  },
  {
   "cell_type": "markdown",
   "id": "615668d7-4393-4b17-b69e-f5ee31da1328",
   "metadata": {},
   "source": [
    "### How does your portfolio do?\n",
    "\n",
    "Write your answer here!"
   ]
  },
  {
   "cell_type": "code",
   "execution_count": null,
   "id": "80a230f7-bccf-4c68-9afe-d307637c51ac",
   "metadata": {},
   "outputs": [],
   "source": []
  }
 ],
 "metadata": {
  "kernelspec": {
   "display_name": "Python 3 (ipykernel)",
   "language": "python",
   "name": "python3"
  },
  "language_info": {
   "codemirror_mode": {
    "name": "ipython",
    "version": 3
   },
   "file_extension": ".py",
   "mimetype": "text/x-python",
   "name": "python",
   "nbconvert_exporter": "python",
   "pygments_lexer": "ipython3",
   "version": "3.9.7"
  }
 },
 "nbformat": 4,
 "nbformat_minor": 5
}
